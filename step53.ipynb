{
  "nbformat": 4,
  "nbformat_minor": 0,
  "metadata": {
    "colab": {
      "name": "step53.ipynb",
      "provenance": [],
      "collapsed_sections": [],
      "toc_visible": true,
      "authorship_tag": "ABX9TyMSyG6uF5b7auDW85ddrejA",
      "include_colab_link": true
    },
    "kernelspec": {
      "name": "python3",
      "display_name": "Python 3"
    },
    "language_info": {
      "name": "python"
    },
    "accelerator": "GPU"
  },
  "cells": [
    {
      "cell_type": "markdown",
      "metadata": {
        "id": "view-in-github",
        "colab_type": "text"
      },
      "source": [
        "<a href=\"https://colab.research.google.com/github/hjkornn-phys/DZero/blob/main/step53.ipynb\" target=\"_parent\"><img src=\"https://colab.research.google.com/assets/colab-badge.svg\" alt=\"Open In Colab\"/></a>"
      ]
    },
    {
      "cell_type": "code",
      "metadata": {
        "colab": {
          "base_uri": "https://localhost:8080/"
        },
        "id": "muQzUd4cPnTJ",
        "outputId": "fe2eb692-36dc-4dbf-da8f-605674bee8b5"
      },
      "source": [
        "!nvidia-smi"
      ],
      "execution_count": 1,
      "outputs": [
        {
          "output_type": "stream",
          "text": [
            "Mon Jun  7 06:52:30 2021       \n",
            "+-----------------------------------------------------------------------------+\n",
            "| NVIDIA-SMI 465.27       Driver Version: 460.32.03    CUDA Version: 11.2     |\n",
            "|-------------------------------+----------------------+----------------------+\n",
            "| GPU  Name        Persistence-M| Bus-Id        Disp.A | Volatile Uncorr. ECC |\n",
            "| Fan  Temp  Perf  Pwr:Usage/Cap|         Memory-Usage | GPU-Util  Compute M. |\n",
            "|                               |                      |               MIG M. |\n",
            "|===============================+======================+======================|\n",
            "|   0  Tesla T4            Off  | 00000000:00:04.0 Off |                    0 |\n",
            "| N/A   63C    P8    11W /  70W |      0MiB / 15109MiB |      0%      Default |\n",
            "|                               |                      |                  N/A |\n",
            "+-------------------------------+----------------------+----------------------+\n",
            "                                                                               \n",
            "+-----------------------------------------------------------------------------+\n",
            "| Processes:                                                                  |\n",
            "|  GPU   GI   CI        PID   Type   Process name                  GPU Memory |\n",
            "|        ID   ID                                                   Usage      |\n",
            "|=============================================================================|\n",
            "|  No running processes found                                                 |\n",
            "+-----------------------------------------------------------------------------+\n"
          ],
          "name": "stdout"
        }
      ]
    },
    {
      "cell_type": "code",
      "metadata": {
        "colab": {
          "base_uri": "https://localhost:8080/"
        },
        "id": "3eHx7MEQPrhc",
        "outputId": "543384c4-4ea9-4a69-beb2-8dc3a28f5920"
      },
      "source": [
        "# DeZero Setup\n",
        "!git clone https://github.com/hjkornn-phys/DZero\n",
        "%cd DZero\n",
        "!pip install cuda\n",
        "%env PYTHONPATH=.:$PYTHONPATH"
      ],
      "execution_count": 2,
      "outputs": [
        {
          "output_type": "stream",
          "text": [
            "Cloning into 'DZero'...\n",
            "remote: Enumerating objects: 229, done.\u001b[K\n",
            "remote: Counting objects: 100% (229/229), done.\u001b[K\n",
            "remote: Compressing objects: 100% (153/153), done.\u001b[K\n",
            "remote: Total 229 (delta 115), reused 184 (delta 73), pack-reused 0\u001b[K\n",
            "Receiving objects: 100% (229/229), 2.89 MiB | 18.27 MiB/s, done.\n",
            "Resolving deltas: 100% (115/115), done.\n",
            "/content/DZero\n",
            "Collecting cuda\n",
            "  Downloading https://files.pythonhosted.org/packages/cf/b0/1d7b5b9337b95844630140d261f1533238a642cd3b62bc0d5c16101aebe2/cuda-0.0.1.tar.gz\n",
            "Building wheels for collected packages: cuda\n",
            "  Building wheel for cuda (setup.py) ... \u001b[?25l\u001b[?25hdone\n",
            "  Created wheel for cuda: filename=cuda-0.0.1-cp37-none-any.whl size=1171 sha256=f18c22a294f84d379dcdee7ed9c54892923fae566ec34c40e9db479cf13d2e94\n",
            "  Stored in directory: /root/.cache/pip/wheels/36/8b/0f/d02791649030e542318a597a912a5c0bce24737af77d2f3591\n",
            "Successfully built cuda\n",
            "Installing collected packages: cuda\n",
            "Successfully installed cuda-0.0.1\n",
            "env: PYTHONPATH=.:$PYTHONPATH\n"
          ],
          "name": "stdout"
        }
      ]
    },
    {
      "cell_type": "code",
      "metadata": {
        "colab": {
          "base_uri": "https://localhost:8080/"
        },
        "id": "o96oS5CMP13F",
        "outputId": "519c342a-2bfc-4152-8d94-96d496fe0b36"
      },
      "source": [
        "import time\n",
        "import dezero\n",
        "import dezero.functions as F\n",
        "from dezero import optimizers\n",
        "from dezero.dataloader import DataLoader\n",
        "from dezero.datasets import MNIST\n",
        "from dezero.models import MLP\n",
        "import urllib.request\n",
        "import numpy as np\n",
        "import cupy\n",
        "from dezero import Variable\n",
        "import dezero.cuda as cuda\n",
        "\n",
        "MAX_EPOCH = 5\n",
        "BATCH_SIZE = 100\n",
        "\n",
        "train_set = MNIST(train=True)\n",
        "train_loader = DataLoader(train_set, batch_size=BATCH_SIZE)\n",
        "model = MLP((1000, 10))\n",
        "optimizer = optimizers.SGD().setup(model)\n",
        "dezero.cuda.gpu_enable = True\n",
        "\n",
        "# GPU Mode\n",
        "if dezero.cuda.gpu_enable:\n",
        "    train_loader.to_gpu()\n",
        "    model.to_gpu()\n",
        "\n",
        "\n",
        "\n",
        "\n",
        "for epoch in range(MAX_EPOCH):\n",
        "    start = time.time()\n",
        "    sum_loss = 0\n",
        "\n",
        "    for x, t in train_loader:\n",
        "        loss = F.softmax_cross_entropy(model(x),t)\n",
        "        model.cleargrads()\n",
        "        loss.backward()\n",
        "        optimizer.update()\n",
        "        sum_loss += float(loss.data) * len(t)\n",
        "\n",
        "    elapsed_time = time.time() - start\n",
        "    print(f'epoch:{epoch+1}, loss: {sum_loss/len(train_set):.4f}, time: {elapsed_time:.4f} [sec] ')"
      ],
      "execution_count": 9,
      "outputs": [
        {
          "output_type": "stream",
          "text": [
            "epoch:1, loss: 1.8958, time: 3.3067 [sec] \n",
            "epoch:2, loss: 1.2661, time: 3.1502 [sec] \n",
            "epoch:3, loss: 0.9136, time: 3.1432 [sec] \n",
            "epoch:4, loss: 0.7326, time: 3.1087 [sec] \n",
            "epoch:5, loss: 0.6303, time: 3.1046 [sec] \n"
          ],
          "name": "stdout"
        }
      ]
    },
    {
      "cell_type": "code",
      "metadata": {
        "id": "qfQ6cuJSUdYX"
      },
      "source": [
        "a = np.array([1,2,3])"
      ],
      "execution_count": null,
      "outputs": []
    },
    {
      "cell_type": "code",
      "metadata": {
        "id": "cZr7LL7WZrV1"
      },
      "source": [
        "b = cp.asarray(a)"
      ],
      "execution_count": null,
      "outputs": []
    },
    {
      "cell_type": "code",
      "metadata": {
        "id": "1xqPaJrvZx3X"
      },
      "source": [
        "type(b)"
      ],
      "execution_count": null,
      "outputs": []
    },
    {
      "cell_type": "code",
      "metadata": {
        "id": "0CL1A0_4Z243"
      },
      "source": [
        ""
      ],
      "execution_count": null,
      "outputs": []
    }
  ]
}